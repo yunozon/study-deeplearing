{
 "cells": [
  {
   "cell_type": "markdown",
   "id": "55a383b3-8135-42d6-bc47-49d465a0cf69",
   "metadata": {},
   "source": [
    "## Tensorの基礎"
   ]
  },
  {
   "cell_type": "code",
   "execution_count": 22,
   "id": "3e2b0db4-4217-47de-9307-08f2b9b70c71",
   "metadata": {},
   "outputs": [
    {
     "data": {
      "text/plain": [
       "<torch._C.Generator at 0x410edac050>"
      ]
     },
     "execution_count": 22,
     "metadata": {},
     "output_type": "execute_result"
    }
   ],
   "source": [
    "# pytouchをインポート\n",
    "import torch\n",
    "import numpy as np\n",
    "\n",
    "# 乱数の固定(tensor)\n",
    "torch.manual_seed(42)\n",
    "\n",
    "# 乱数の固定(numpy)\n",
    "# np.random.seed(0)"
   ]
  },
  {
   "cell_type": "code",
   "execution_count": 3,
   "id": "2de0121c-1eb1-4b56-b9a2-d97a45d7e2d4",
   "metadata": {},
   "outputs": [
    {
     "data": {
      "text/plain": [
       "tensor([1, 2, 3, 4])"
      ]
     },
     "execution_count": 3,
     "metadata": {},
     "output_type": "execute_result"
    }
   ],
   "source": [
    "# Tensor作成\n",
    "my_list = [1,2,3,4]\n",
    "tensor_from_list = torch.tensor(my_list)\n",
    "tensor_from_list"
   ]
  },
  {
   "cell_type": "code",
   "execution_count": 4,
   "id": "25396400-e79a-4819-8207-c22d6dd9516a",
   "metadata": {},
   "outputs": [
    {
     "data": {
      "text/plain": [
       "torch.Tensor"
      ]
     },
     "execution_count": 4,
     "metadata": {},
     "output_type": "execute_result"
    }
   ],
   "source": [
    "# タイプを確認\n",
    "type(tensor_from_list)"
   ]
  },
  {
   "cell_type": "code",
   "execution_count": 5,
   "id": "ff36bfde-db9d-47c6-a693-d351cb87f865",
   "metadata": {},
   "outputs": [
    {
     "data": {
      "text/plain": [
       "torch.int64"
      ]
     },
     "execution_count": 5,
     "metadata": {},
     "output_type": "execute_result"
    }
   ],
   "source": [
    "# dtypeを確認\n",
    "tensor_from_list.dtype"
   ]
  },
  {
   "cell_type": "code",
   "execution_count": 6,
   "id": "f1ea77d7-798e-4b2a-8ccb-9e3b5cbbcb19",
   "metadata": {},
   "outputs": [
    {
     "data": {
      "text/plain": [
       "tensor([1., 2., 3., 4.])"
      ]
     },
     "execution_count": 6,
     "metadata": {},
     "output_type": "execute_result"
    }
   ],
   "source": [
    "# floatにしてみる\n",
    "my_list = [1.,2.,3.,4.]\n",
    "tensor_from_list = torch.tensor(my_list)\n",
    "tensor_from_list"
   ]
  },
  {
   "cell_type": "code",
   "execution_count": 9,
   "id": "938fee60-b1fa-453d-bbf5-8f648883cfaa",
   "metadata": {},
   "outputs": [
    {
     "data": {
      "text/plain": [
       "torch.float32"
      ]
     },
     "execution_count": 9,
     "metadata": {},
     "output_type": "execute_result"
    }
   ],
   "source": [
    "# デフォルトでfloat32\n",
    "tensor_from_list.dtype\n"
   ]
  },
  {
   "cell_type": "code",
   "execution_count": 10,
   "id": "ed9dd1e6-03dd-4e91-9f50-cf6b9295f7cd",
   "metadata": {},
   "outputs": [
    {
     "data": {
      "text/plain": [
       "tensor([1., 2., 3., 4.], dtype=torch.float64)"
      ]
     },
     "execution_count": 10,
     "metadata": {},
     "output_type": "execute_result"
    }
   ],
   "source": [
    "# float64に指定する\n",
    "tensor_from_list = torch.tensor(my_list, dtype=torch.float64)\n",
    "tensor_from_list"
   ]
  },
  {
   "cell_type": "code",
   "execution_count": 17,
   "id": "7e9338b7-d842-4bfa-8de0-ea4fde0f50f1",
   "metadata": {},
   "outputs": [],
   "source": [
    "# すでに用意されている特別なtensor(配列)\n",
    "# numpyと同じ感じ\n",
    "zeros_tensor = torch.zeros((2, 3))"
   ]
  },
  {
   "cell_type": "code",
   "execution_count": 12,
   "id": "aed0f096-a3f4-4f3c-bd73-d2b5d1c90e86",
   "metadata": {},
   "outputs": [
    {
     "data": {
      "text/plain": [
       "tensor([[0., 0., 0.],\n",
       "        [0., 0., 0.]])"
      ]
     },
     "execution_count": 12,
     "metadata": {},
     "output_type": "execute_result"
    }
   ],
   "source": [
    "zeros_tensor"
   ]
  },
  {
   "cell_type": "code",
   "execution_count": 13,
   "id": "b2f93e7e-5bdb-4236-b909-b683be675465",
   "metadata": {},
   "outputs": [
    {
     "data": {
      "text/plain": [
       "tensor([[1., 1., 1.],\n",
       "        [1., 1., 1.]])"
      ]
     },
     "execution_count": 13,
     "metadata": {},
     "output_type": "execute_result"
    }
   ],
   "source": [
    "ones_tensor = torch.ones((2, 3))\n",
    "ones_tensor"
   ]
  },
  {
   "cell_type": "code",
   "execution_count": 15,
   "id": "377d9b07-cedd-4852-8fdd-954206cd12d0",
   "metadata": {},
   "outputs": [
    {
     "data": {
      "text/plain": [
       "tensor([[1., 0., 0.],\n",
       "        [0., 1., 0.],\n",
       "        [0., 0., 1.]])"
      ]
     },
     "execution_count": 15,
     "metadata": {},
     "output_type": "execute_result"
    }
   ],
   "source": [
    "eye_tensor = torch.eye(3)\n",
    "eye_tensor"
   ]
  },
  {
   "cell_type": "code",
   "execution_count": 19,
   "id": "9d961b53-777f-4c62-b2e5-e84c16db7ed2",
   "metadata": {},
   "outputs": [
    {
     "data": {
      "text/plain": [
       "tensor([[0.8519, 0.1800, 0.4975],\n",
       "        [0.8483, 0.4840, 0.7842]])"
      ]
     },
     "execution_count": 19,
     "metadata": {},
     "output_type": "execute_result"
    }
   ],
   "source": [
    "random_tensor = torch.rand((2, 3))\n",
    "random_tensor"
   ]
  },
  {
   "cell_type": "code",
   "execution_count": 20,
   "id": "e6ae1cf4-32d4-4fa3-9c12-2de9b46c437a",
   "metadata": {},
   "outputs": [
    {
     "data": {
      "text/plain": [
       "torch.float32"
      ]
     },
     "execution_count": 20,
     "metadata": {},
     "output_type": "execute_result"
    }
   ],
   "source": [
    "# 型を確認\n",
    "random_tensor.dtype"
   ]
  },
  {
   "cell_type": "code",
   "execution_count": 24,
   "id": "d4d413d9-7b51-408c-868e-01e7fd16c35f",
   "metadata": {},
   "outputs": [
    {
     "name": "stdout",
     "output_type": "stream",
     "text": [
      "tensor([[0., 0., 0.],\n",
      "        [0., 0., 0.]]) torch.float32\n",
      "tensor([[1., 1., 1.],\n",
      "        [1., 1., 1.]]) torch.float32\n",
      "tensor([[1., 0., 0.],\n",
      "        [0., 1., 0.],\n",
      "        [0., 0., 1.]]) torch.float32\n",
      "tensor([[0.2566, 0.7936, 0.9408],\n",
      "        [0.1332, 0.9346, 0.5936]]) torch.float32\n"
     ]
    }
   ],
   "source": [
    "# まとめ(tensor)\n",
    "zeros_tensor = torch.zeros((2, 3))\n",
    "ones_tensor = torch.ones((2, 3))\n",
    "eye_tensor = torch.eye(3)\n",
    "random_tensor = torch.rand((2, 3))\n",
    "\n",
    "print(zeros_tensor, zeros_tensor.dtype)\n",
    "print(ones_tensor, ones_tensor.dtype)\n",
    "print(eye_tensor, eye_tensor.dtype)\n",
    "print(random_tensor, random_tensor.dtype)\n"
   ]
  },
  {
   "cell_type": "code",
   "execution_count": 27,
   "id": "0c02c0be-8000-4291-b116-3524b5a6fbcf",
   "metadata": {},
   "outputs": [
    {
     "name": "stdout",
     "output_type": "stream",
     "text": [
      "[[0. 0. 0.]\n",
      " [0. 0. 0.]] float64\n",
      "[[1. 1. 1.]\n",
      " [1. 1. 1.]] float64\n",
      "[[1. 0. 0.]\n",
      " [0. 1. 0.]\n",
      " [0. 0. 1.]] float64\n",
      "[[0.17304687 0.18939991 0.5125553 ]\n",
      " [0.47331304 0.12394428 0.22148253]] float64\n"
     ]
    }
   ],
   "source": [
    "# まとめ(numpy)\n",
    "np_zeros = np.zeros((2,3))\n",
    "np_ones = np.ones((2, 3))\n",
    "np_eye = np.eye(3)\n",
    "# tensorと違って、random.randになる\n",
    "np_random = np.random.rand(2, 3)\n",
    "\n",
    "print(np_zeros, np_zeros.dtype)\n",
    "print(np_ones, np_ones.dtype)\n",
    "print(np_eye, np_eye.dtype)\n",
    "print(np_random, np_random.dtype)\n",
    "\n",
    "# numpyのデータ型のデフォルトはfloat64"
   ]
  },
  {
   "cell_type": "code",
   "execution_count": 30,
   "id": "af369c00-dec0-4173-ad0f-58036b6e8550",
   "metadata": {},
   "outputs": [
    {
     "data": {
      "text/plain": [
       "torch.Size([2, 3])"
      ]
     },
     "execution_count": 30,
     "metadata": {},
     "output_type": "execute_result"
    }
   ],
   "source": [
    "# shapeを確認\n",
    "zeros_tensor.shape\n",
    "\n",
    "# 出力はリストみたいになっているけど、タプルで出力される"
   ]
  },
  {
   "cell_type": "code",
   "execution_count": 31,
   "id": "9d6cbcb5-a770-43fe-8655-ccadd3bb13b7",
   "metadata": {},
   "outputs": [
    {
     "data": {
      "text/plain": [
       "tensor([[0., 0., 0.],\n",
       "        [0., 0., 0.]])"
      ]
     },
     "execution_count": 31,
     "metadata": {},
     "output_type": "execute_result"
    }
   ],
   "source": [
    "zeros_tensor"
   ]
  },
  {
   "cell_type": "code",
   "execution_count": 33,
   "id": "9358fb54-552b-4559-a314-88e0c4e1a04d",
   "metadata": {},
   "outputs": [
    {
     "data": {
      "text/plain": [
       "(2, 3)"
      ]
     },
     "execution_count": 33,
     "metadata": {},
     "output_type": "execute_result"
    }
   ],
   "source": [
    "# これもタプルで出力される\n",
    "np_zeros.shape"
   ]
  },
  {
   "cell_type": "code",
   "execution_count": null,
   "id": "90bca7a6-7a79-4938-8e8a-00427bc1841e",
   "metadata": {},
   "outputs": [],
   "source": []
  },
  {
   "cell_type": "code",
   "execution_count": null,
   "id": "3542a942-f802-408d-8a9a-f8794d3282ea",
   "metadata": {},
   "outputs": [],
   "source": []
  },
  {
   "cell_type": "code",
   "execution_count": null,
   "id": "caeeafc4-a4e0-41bd-a310-06b390535908",
   "metadata": {},
   "outputs": [],
   "source": []
  }
 ],
 "metadata": {
  "kernelspec": {
   "display_name": "Python 3 (ipykernel)",
   "language": "python",
   "name": "python3"
  },
  "language_info": {
   "codemirror_mode": {
    "name": "ipython",
    "version": 3
   },
   "file_extension": ".py",
   "mimetype": "text/x-python",
   "name": "python",
   "nbconvert_exporter": "python",
   "pygments_lexer": "ipython3",
   "version": "3.8.18"
  }
 },
 "nbformat": 4,
 "nbformat_minor": 5
}

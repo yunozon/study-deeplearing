{
 "cells": [
  {
   "cell_type": "markdown",
   "id": "55a383b3-8135-42d6-bc47-49d465a0cf69",
   "metadata": {},
   "source": [
    "## Tensorの基礎"
   ]
  },
  {
   "cell_type": "code",
   "execution_count": 1,
   "id": "3e2b0db4-4217-47de-9307-08f2b9b70c71",
   "metadata": {},
   "outputs": [
    {
     "data": {
      "text/plain": [
       "<torch._C.Generator at 0x410e04afd0>"
      ]
     },
     "execution_count": 1,
     "metadata": {},
     "output_type": "execute_result"
    }
   ],
   "source": [
    "# pytouchをインポート\n",
    "import torch\n",
    "import numpy as np\n",
    "\n",
    "# 乱数の固定(tensor)\n",
    "torch.manual_seed(42)\n",
    "\n",
    "# 乱数の固定(numpy)\n",
    "# np.random.seed(0)"
   ]
  },
  {
   "cell_type": "code",
   "execution_count": 3,
   "id": "2de0121c-1eb1-4b56-b9a2-d97a45d7e2d4",
   "metadata": {},
   "outputs": [
    {
     "data": {
      "text/plain": [
       "tensor([1, 2, 3, 4])"
      ]
     },
     "execution_count": 3,
     "metadata": {},
     "output_type": "execute_result"
    }
   ],
   "source": [
    "# Tensor作成\n",
    "my_list = [1,2,3,4]\n",
    "tensor_from_list = torch.tensor(my_list)\n",
    "tensor_from_list"
   ]
  },
  {
   "cell_type": "code",
   "execution_count": 4,
   "id": "25396400-e79a-4819-8207-c22d6dd9516a",
   "metadata": {},
   "outputs": [
    {
     "data": {
      "text/plain": [
       "torch.Tensor"
      ]
     },
     "execution_count": 4,
     "metadata": {},
     "output_type": "execute_result"
    }
   ],
   "source": [
    "# タイプを確認\n",
    "type(tensor_from_list)"
   ]
  },
  {
   "cell_type": "code",
   "execution_count": 5,
   "id": "ff36bfde-db9d-47c6-a693-d351cb87f865",
   "metadata": {},
   "outputs": [
    {
     "data": {
      "text/plain": [
       "torch.int64"
      ]
     },
     "execution_count": 5,
     "metadata": {},
     "output_type": "execute_result"
    }
   ],
   "source": [
    "# dtypeを確認\n",
    "tensor_from_list.dtype"
   ]
  },
  {
   "cell_type": "code",
   "execution_count": 6,
   "id": "f1ea77d7-798e-4b2a-8ccb-9e3b5cbbcb19",
   "metadata": {},
   "outputs": [
    {
     "data": {
      "text/plain": [
       "tensor([1., 2., 3., 4.])"
      ]
     },
     "execution_count": 6,
     "metadata": {},
     "output_type": "execute_result"
    }
   ],
   "source": [
    "# floatにしてみる\n",
    "my_list = [1.,2.,3.,4.]\n",
    "tensor_from_list = torch.tensor(my_list)\n",
    "tensor_from_list"
   ]
  },
  {
   "cell_type": "code",
   "execution_count": 9,
   "id": "938fee60-b1fa-453d-bbf5-8f648883cfaa",
   "metadata": {},
   "outputs": [
    {
     "data": {
      "text/plain": [
       "torch.float32"
      ]
     },
     "execution_count": 9,
     "metadata": {},
     "output_type": "execute_result"
    }
   ],
   "source": [
    "# デフォルトでfloat32\n",
    "tensor_from_list.dtype\n"
   ]
  },
  {
   "cell_type": "code",
   "execution_count": 10,
   "id": "ed9dd1e6-03dd-4e91-9f50-cf6b9295f7cd",
   "metadata": {},
   "outputs": [
    {
     "data": {
      "text/plain": [
       "tensor([1., 2., 3., 4.], dtype=torch.float64)"
      ]
     },
     "execution_count": 10,
     "metadata": {},
     "output_type": "execute_result"
    }
   ],
   "source": [
    "# float64に指定する\n",
    "tensor_from_list = torch.tensor(my_list, dtype=torch.float64)\n",
    "tensor_from_list"
   ]
  },
  {
   "cell_type": "code",
   "execution_count": 17,
   "id": "7e9338b7-d842-4bfa-8de0-ea4fde0f50f1",
   "metadata": {},
   "outputs": [],
   "source": [
    "# すでに用意されている特別なtensor(配列)\n",
    "# numpyと同じ感じ\n",
    "zeros_tensor = torch.zeros((2, 3))"
   ]
  },
  {
   "cell_type": "code",
   "execution_count": 12,
   "id": "aed0f096-a3f4-4f3c-bd73-d2b5d1c90e86",
   "metadata": {},
   "outputs": [
    {
     "data": {
      "text/plain": [
       "tensor([[0., 0., 0.],\n",
       "        [0., 0., 0.]])"
      ]
     },
     "execution_count": 12,
     "metadata": {},
     "output_type": "execute_result"
    }
   ],
   "source": [
    "zeros_tensor"
   ]
  },
  {
   "cell_type": "code",
   "execution_count": 13,
   "id": "b2f93e7e-5bdb-4236-b909-b683be675465",
   "metadata": {},
   "outputs": [
    {
     "data": {
      "text/plain": [
       "tensor([[1., 1., 1.],\n",
       "        [1., 1., 1.]])"
      ]
     },
     "execution_count": 13,
     "metadata": {},
     "output_type": "execute_result"
    }
   ],
   "source": [
    "ones_tensor = torch.ones((2, 3))\n",
    "ones_tensor"
   ]
  },
  {
   "cell_type": "code",
   "execution_count": 15,
   "id": "377d9b07-cedd-4852-8fdd-954206cd12d0",
   "metadata": {},
   "outputs": [
    {
     "data": {
      "text/plain": [
       "tensor([[1., 0., 0.],\n",
       "        [0., 1., 0.],\n",
       "        [0., 0., 1.]])"
      ]
     },
     "execution_count": 15,
     "metadata": {},
     "output_type": "execute_result"
    }
   ],
   "source": [
    "eye_tensor = torch.eye(3)\n",
    "eye_tensor"
   ]
  },
  {
   "cell_type": "code",
   "execution_count": 19,
   "id": "9d961b53-777f-4c62-b2e5-e84c16db7ed2",
   "metadata": {},
   "outputs": [
    {
     "data": {
      "text/plain": [
       "tensor([[0.8519, 0.1800, 0.4975],\n",
       "        [0.8483, 0.4840, 0.7842]])"
      ]
     },
     "execution_count": 19,
     "metadata": {},
     "output_type": "execute_result"
    }
   ],
   "source": [
    "random_tensor = torch.rand((2, 3))\n",
    "random_tensor"
   ]
  },
  {
   "cell_type": "code",
   "execution_count": 20,
   "id": "e6ae1cf4-32d4-4fa3-9c12-2de9b46c437a",
   "metadata": {},
   "outputs": [
    {
     "data": {
      "text/plain": [
       "torch.float32"
      ]
     },
     "execution_count": 20,
     "metadata": {},
     "output_type": "execute_result"
    }
   ],
   "source": [
    "# 型を確認\n",
    "random_tensor.dtype"
   ]
  },
  {
   "cell_type": "code",
   "execution_count": 24,
   "id": "d4d413d9-7b51-408c-868e-01e7fd16c35f",
   "metadata": {},
   "outputs": [
    {
     "name": "stdout",
     "output_type": "stream",
     "text": [
      "tensor([[0., 0., 0.],\n",
      "        [0., 0., 0.]]) torch.float32\n",
      "tensor([[1., 1., 1.],\n",
      "        [1., 1., 1.]]) torch.float32\n",
      "tensor([[1., 0., 0.],\n",
      "        [0., 1., 0.],\n",
      "        [0., 0., 1.]]) torch.float32\n",
      "tensor([[0.2566, 0.7936, 0.9408],\n",
      "        [0.1332, 0.9346, 0.5936]]) torch.float32\n"
     ]
    }
   ],
   "source": [
    "# まとめ(tensor)\n",
    "zeros_tensor = torch.zeros((2, 3))\n",
    "ones_tensor = torch.ones((2, 3))\n",
    "eye_tensor = torch.eye(3)\n",
    "random_tensor = torch.rand((2, 3))\n",
    "\n",
    "print(zeros_tensor, zeros_tensor.dtype)\n",
    "print(ones_tensor, ones_tensor.dtype)\n",
    "print(eye_tensor, eye_tensor.dtype)\n",
    "print(random_tensor, random_tensor.dtype)\n"
   ]
  },
  {
   "cell_type": "code",
   "execution_count": 27,
   "id": "0c02c0be-8000-4291-b116-3524b5a6fbcf",
   "metadata": {},
   "outputs": [
    {
     "name": "stdout",
     "output_type": "stream",
     "text": [
      "[[0. 0. 0.]\n",
      " [0. 0. 0.]] float64\n",
      "[[1. 1. 1.]\n",
      " [1. 1. 1.]] float64\n",
      "[[1. 0. 0.]\n",
      " [0. 1. 0.]\n",
      " [0. 0. 1.]] float64\n",
      "[[0.17304687 0.18939991 0.5125553 ]\n",
      " [0.47331304 0.12394428 0.22148253]] float64\n"
     ]
    }
   ],
   "source": [
    "# まとめ(numpy)\n",
    "np_zeros = np.zeros((2,3))\n",
    "np_ones = np.ones((2, 3))\n",
    "np_eye = np.eye(3)\n",
    "# tensorと違って、random.randになる\n",
    "np_random = np.random.rand(2, 3)\n",
    "\n",
    "print(np_zeros, np_zeros.dtype)\n",
    "print(np_ones, np_ones.dtype)\n",
    "print(np_eye, np_eye.dtype)\n",
    "print(np_random, np_random.dtype)\n",
    "\n",
    "# numpyのデータ型のデフォルトはfloat64"
   ]
  },
  {
   "cell_type": "code",
   "execution_count": 30,
   "id": "af369c00-dec0-4173-ad0f-58036b6e8550",
   "metadata": {},
   "outputs": [
    {
     "data": {
      "text/plain": [
       "torch.Size([2, 3])"
      ]
     },
     "execution_count": 30,
     "metadata": {},
     "output_type": "execute_result"
    }
   ],
   "source": [
    "# shapeを確認\n",
    "zeros_tensor.shape\n",
    "\n",
    "# 出力はリストみたいになっているけど、タプルで出力される"
   ]
  },
  {
   "cell_type": "code",
   "execution_count": 31,
   "id": "9d6cbcb5-a770-43fe-8655-ccadd3bb13b7",
   "metadata": {},
   "outputs": [
    {
     "data": {
      "text/plain": [
       "tensor([[0., 0., 0.],\n",
       "        [0., 0., 0.]])"
      ]
     },
     "execution_count": 31,
     "metadata": {},
     "output_type": "execute_result"
    }
   ],
   "source": [
    "zeros_tensor"
   ]
  },
  {
   "cell_type": "code",
   "execution_count": 33,
   "id": "9358fb54-552b-4559-a314-88e0c4e1a04d",
   "metadata": {},
   "outputs": [
    {
     "data": {
      "text/plain": [
       "(2, 3)"
      ]
     },
     "execution_count": 33,
     "metadata": {},
     "output_type": "execute_result"
    }
   ],
   "source": [
    "# これもタプルで出力される\n",
    "np_zeros.shape"
   ]
  },
  {
   "cell_type": "code",
   "execution_count": null,
   "id": "90bca7a6-7a79-4938-8e8a-00427bc1841e",
   "metadata": {},
   "outputs": [],
   "source": []
  },
  {
   "cell_type": "markdown",
   "id": "a4eec373-8d26-4dc5-981f-30e8b28721e2",
   "metadata": {},
   "source": [
    "## Tensorの操作"
   ]
  },
  {
   "cell_type": "code",
   "execution_count": 4,
   "id": "caeeafc4-a4e0-41bd-a310-06b390535908",
   "metadata": {},
   "outputs": [
    {
     "name": "stdout",
     "output_type": "stream",
     "text": [
      "tensor([[[0.7539, 0.1952, 0.0050, 0.3068],\n",
      "         [0.1165, 0.9103, 0.6440, 0.7071],\n",
      "         [0.6581, 0.4913, 0.8913, 0.1447]],\n",
      "\n",
      "        [[0.5315, 0.1587, 0.6542, 0.3278],\n",
      "         [0.6532, 0.3958, 0.9147, 0.2036],\n",
      "         [0.2018, 0.2018, 0.9497, 0.6666]]]) [[[0.82898321 0.08410877 0.84197546 0.85939948]\n",
      "  [0.86769265 0.39994034 0.94492478 0.71500793]\n",
      "  [0.26872036 0.01126937 0.44190327 0.72981896]]\n",
      "\n",
      " [[0.80441511 0.40704454 0.16137902 0.25744768]\n",
      "  [0.42094129 0.38336408 0.37023294 0.37958161]\n",
      "  [0.53582301 0.16554663 0.38664678 0.99661941]]]\n"
     ]
    }
   ],
   "source": [
    "# 3*4の配列、テンサーが2個ある\n",
    "tensor_example = torch.rand((2,3, 4))\n",
    "np_example = np.random.rand(2, 3, 4)\n",
    "print(tensor_example, np_example)"
   ]
  },
  {
   "cell_type": "code",
   "execution_count": 7,
   "id": "fd5d3931-ec9a-4f47-b4b5-b28085f6b0fe",
   "metadata": {},
   "outputs": [
    {
     "data": {
      "text/plain": [
       "torch.Size([2, 3, 4])"
      ]
     },
     "execution_count": 7,
     "metadata": {},
     "output_type": "execute_result"
    }
   ],
   "source": [
    "tensor_example.shape"
   ]
  },
  {
   "cell_type": "code",
   "execution_count": 8,
   "id": "b218ba8b-b7cb-4ff6-bd6e-42406c52e9cd",
   "metadata": {},
   "outputs": [
    {
     "data": {
      "text/plain": [
       "tensor([[[0.7539, 0.1952, 0.0050, 0.3068],\n",
       "         [0.1165, 0.9103, 0.6440, 0.7071],\n",
       "         [0.6581, 0.4913, 0.8913, 0.1447]],\n",
       "\n",
       "        [[0.5315, 0.1587, 0.6542, 0.3278],\n",
       "         [0.6532, 0.3958, 0.9147, 0.2036],\n",
       "         [0.2018, 0.2018, 0.9497, 0.6666]]])"
      ]
     },
     "execution_count": 8,
     "metadata": {},
     "output_type": "execute_result"
    }
   ],
   "source": [
    "# 3*4のtensorが2個ある\n",
    "tensor_example"
   ]
  },
  {
   "cell_type": "code",
   "execution_count": 9,
   "id": "af7a6b60-db9e-41e5-87fa-1e90e6b0555a",
   "metadata": {},
   "outputs": [
    {
     "data": {
      "text/plain": [
       "array([[[0.82898321, 0.08410877, 0.84197546, 0.85939948],\n",
       "        [0.86769265, 0.39994034, 0.94492478, 0.71500793],\n",
       "        [0.26872036, 0.01126937, 0.44190327, 0.72981896]],\n",
       "\n",
       "       [[0.80441511, 0.40704454, 0.16137902, 0.25744768],\n",
       "        [0.42094129, 0.38336408, 0.37023294, 0.37958161],\n",
       "        [0.53582301, 0.16554663, 0.38664678, 0.99661941]]])"
      ]
     },
     "execution_count": 9,
     "metadata": {},
     "output_type": "execute_result"
    }
   ],
   "source": [
    "# 3*4が2個ある\n",
    "np_example"
   ]
  },
  {
   "cell_type": "code",
   "execution_count": 10,
   "id": "3e093eaf-afd5-431a-91ec-cfa0d87e9296",
   "metadata": {},
   "outputs": [
    {
     "data": {
      "text/plain": [
       "(2, 3, 4)"
      ]
     },
     "execution_count": 10,
     "metadata": {},
     "output_type": "execute_result"
    }
   ],
   "source": [
    "np_example.shape"
   ]
  },
  {
   "cell_type": "code",
   "execution_count": 11,
   "id": "8d9d3971-e906-42b8-8fca-bb69a4489716",
   "metadata": {},
   "outputs": [
    {
     "data": {
      "text/plain": [
       "tensor([[[0.7539, 0.1952, 0.0050, 0.3068],\n",
       "         [0.1165, 0.9103, 0.6440, 0.7071],\n",
       "         [0.6581, 0.4913, 0.8913, 0.1447]],\n",
       "\n",
       "        [[0.5315, 0.1587, 0.6542, 0.3278],\n",
       "         [0.6532, 0.3958, 0.9147, 0.2036],\n",
       "         [0.2018, 0.2018, 0.9497, 0.6666]]])"
      ]
     },
     "execution_count": 11,
     "metadata": {},
     "output_type": "execute_result"
    }
   ],
   "source": [
    "# 転値\n",
    "# (0,1,2)は何も変わらず。左から０次元目、１次元目...というふうになっているから同じ形になる。\n",
    "torch.permute(tensor_example, (0, 1, 2))\n",
    "\n"
   ]
  },
  {
   "cell_type": "code",
   "execution_count": 20,
   "id": "721ffe4e-b0ed-4bd9-acd5-cc233a4da4c7",
   "metadata": {},
   "outputs": [
    {
     "name": "stdout",
     "output_type": "stream",
     "text": [
      "torch.Size([3, 2, 4])\n",
      "(3, 2, 4)\n",
      "torch.Size([3, 2, 4])\n"
     ]
    }
   ],
   "source": [
    "# 転値\n",
    "# これは、順番を変えたのでtensor_exampleから見ると, (3, 2, 4)になる。\n",
    "permuted_temsor = torch.permute(tensor_example, (1,0,2))\n",
    "transposed_np = np.transpose(np_example, (1, 0, 2))\n",
    "print(permuted_temsor.shape)\n",
    "print(transposed_np.shape)\n",
    "\n",
    "transposed_tensor = torch.transpose(tensor_example, 0,1)\n",
    "print(transposed_tensor.shape)"
   ]
  },
  {
   "cell_type": "code",
   "execution_count": 16,
   "id": "1bf53076-cc01-41b1-90f7-0a779cf67969",
   "metadata": {},
   "outputs": [
    {
     "data": {
      "text/plain": [
       "torch.Size([3, 2, 4])"
      ]
     },
     "execution_count": 16,
     "metadata": {},
     "output_type": "execute_result"
    }
   ],
   "source": [
    "permuted_temsor.shape"
   ]
  },
  {
   "cell_type": "code",
   "execution_count": null,
   "id": "793636e1-dc79-46b2-8b6a-a81ce8162894",
   "metadata": {},
   "outputs": [],
   "source": []
  },
  {
   "cell_type": "code",
   "execution_count": 21,
   "id": "805bba33-9870-49cd-abd9-73cb7802766e",
   "metadata": {},
   "outputs": [],
   "source": [
    "# reshape"
   ]
  },
  {
   "cell_type": "code",
   "execution_count": 26,
   "id": "7150d949-b44c-4535-8fca-83e2e106de04",
   "metadata": {},
   "outputs": [
    {
     "name": "stdout",
     "output_type": "stream",
     "text": [
      "torch.Size([6, 4])\n",
      "(6, 4)\n"
     ]
    }
   ],
   "source": [
    "reshaped_tensor = torch.reshape(tensor_example, (6, 4))\n",
    "reshaped_np = np.reshape(np_example, (6, 4))\n",
    "print(reshaped_tensor.shape)\n",
    "print(reshaped_np.shape)"
   ]
  },
  {
   "cell_type": "code",
   "execution_count": 27,
   "id": "7e53ecce-de7e-45ab-9abd-2093b35f142b",
   "metadata": {},
   "outputs": [
    {
     "data": {
      "text/plain": [
       "tensor([[0.7539, 0.1952, 0.0050, 0.3068],\n",
       "        [0.1165, 0.9103, 0.6440, 0.7071],\n",
       "        [0.6581, 0.4913, 0.8913, 0.1447],\n",
       "        [0.5315, 0.1587, 0.6542, 0.3278],\n",
       "        [0.6532, 0.3958, 0.9147, 0.2036],\n",
       "        [0.2018, 0.2018, 0.9497, 0.6666]])"
      ]
     },
     "execution_count": 27,
     "metadata": {},
     "output_type": "execute_result"
    }
   ],
   "source": [
    "# reshapeはメモリを参照しているため、reshapeされたtensorを変更すると、もとのtensorも変更される\n",
    "# コピーを渡しているわけではない\n",
    "reshaped_tensor"
   ]
  },
  {
   "cell_type": "code",
   "execution_count": 29,
   "id": "6a90c57b-bfe0-4452-a7b2-998f78a119f3",
   "metadata": {},
   "outputs": [
    {
     "data": {
      "text/plain": [
       "tensor([[[0.7539, 0.1952, 0.0050, 0.3068],\n",
       "         [0.1165, 0.9103, 0.6440, 0.7071],\n",
       "         [0.6581, 0.4913, 0.8913, 0.1447]],\n",
       "\n",
       "        [[0.5315, 0.1587, 0.6542, 0.3278],\n",
       "         [0.6532, 0.3958, 0.9147, 0.2036],\n",
       "         [0.2018, 0.2018, 0.9497, 0.6666]]])"
      ]
     },
     "execution_count": 29,
     "metadata": {},
     "output_type": "execute_result"
    }
   ],
   "source": [
    "tensor_example"
   ]
  },
  {
   "cell_type": "code",
   "execution_count": 44,
   "id": "89a9aa56-91b2-460a-9e3e-a47f28652f7c",
   "metadata": {},
   "outputs": [
    {
     "data": {
      "text/plain": [
       "tensor([[0.0000, 0.0000, 0.0000, 0.0000],\n",
       "        [0.1165, 0.9103, 0.6440, 0.7071],\n",
       "        [0.6581, 0.4913, 0.8913, 0.1447],\n",
       "        [0.5315, 0.1587, 0.6542, 0.3278],\n",
       "        [0.6532, 0.3958, 0.9147, 0.2036],\n",
       "        [0.2018, 0.2018, 0.9497, 0.6666]])"
      ]
     },
     "execution_count": 44,
     "metadata": {},
     "output_type": "execute_result"
    }
   ],
   "source": [
    "# 同じメモリを参照していることを確かめる\n",
    "reshaped_tensor[0] = 0\n",
    "reshaped_tensor"
   ]
  },
  {
   "cell_type": "code",
   "execution_count": 43,
   "id": "63fdc836-f666-4b41-955f-764f6c17832a",
   "metadata": {},
   "outputs": [
    {
     "data": {
      "text/plain": [
       "tensor([[[0.0000, 0.0000, 0.0000, 0.0000],\n",
       "         [0.1165, 0.9103, 0.6440, 0.7071],\n",
       "         [0.6581, 0.4913, 0.8913, 0.1447]],\n",
       "\n",
       "        [[0.5315, 0.1587, 0.6542, 0.3278],\n",
       "         [0.6532, 0.3958, 0.9147, 0.2036],\n",
       "         [0.2018, 0.2018, 0.9497, 0.6666]]])"
      ]
     },
     "execution_count": 43,
     "metadata": {},
     "output_type": "execute_result"
    }
   ],
   "source": [
    "# tensor_examplehは何もいじっていないのに、変わっている！\n",
    "tensor_example"
   ]
  },
  {
   "cell_type": "code",
   "execution_count": 28,
   "id": "be816b25-4905-4fbd-aa2d-cd948ede07c4",
   "metadata": {},
   "outputs": [
    {
     "data": {
      "text/plain": [
       "array([[0.82898321, 0.08410877, 0.84197546, 0.85939948],\n",
       "       [0.86769265, 0.39994034, 0.94492478, 0.71500793],\n",
       "       [0.26872036, 0.01126937, 0.44190327, 0.72981896],\n",
       "       [0.80441511, 0.40704454, 0.16137902, 0.25744768],\n",
       "       [0.42094129, 0.38336408, 0.37023294, 0.37958161],\n",
       "       [0.53582301, 0.16554663, 0.38664678, 0.99661941]])"
      ]
     },
     "execution_count": 28,
     "metadata": {},
     "output_type": "execute_result"
    }
   ],
   "source": [
    "reshaped_np"
   ]
  },
  {
   "cell_type": "code",
   "execution_count": 32,
   "id": "c4181835-bd7a-4458-8615-c18f71515d43",
   "metadata": {},
   "outputs": [
    {
     "data": {
      "text/plain": [
       "tensor([[1, 2],\n",
       "        [3, 4],\n",
       "        [5, 6]])"
      ]
     },
     "execution_count": 32,
     "metadata": {},
     "output_type": "execute_result"
    }
   ],
   "source": [
    "# メモリが連続でなければreshapeはコピーを返す\n",
    "x = torch.tensor(([1,2], [3, 4], [5, 6]))\n",
    "x"
   ]
  },
  {
   "cell_type": "code",
   "execution_count": 33,
   "id": "72d7702a-87b0-4934-95cd-9029e9ba78f7",
   "metadata": {},
   "outputs": [
    {
     "data": {
      "text/plain": [
       "tensor([[1, 3, 5],\n",
       "        [2, 4, 6]])"
      ]
     },
     "execution_count": 33,
     "metadata": {},
     "output_type": "execute_result"
    }
   ],
   "source": [
    "y = x.T\n",
    "y "
   ]
  },
  {
   "cell_type": "code",
   "execution_count": 36,
   "id": "bed459c4-62dc-4f20-b3b7-c7ea42224b45",
   "metadata": {},
   "outputs": [
    {
     "name": "stdout",
     "output_type": "stream",
     "text": [
      "False\n",
      "True\n"
     ]
    }
   ],
   "source": [
    "# 先ほどのyは連続なメモリに保存されていない\n",
    "# メモリが連続であるかをboolで判断\n",
    "print(y.is_contiguous())\n",
    "print(x.is_contiguous())"
   ]
  },
  {
   "cell_type": "code",
   "execution_count": 37,
   "id": "3de8b679-d566-48c3-a499-8c3d66268c9a",
   "metadata": {},
   "outputs": [],
   "source": [
    "z = y.reshape(-1)"
   ]
  },
  {
   "cell_type": "code",
   "execution_count": 38,
   "id": "d111640a-c400-46a7-9e69-54d2080d81bf",
   "metadata": {},
   "outputs": [
    {
     "data": {
      "text/plain": [
       "tensor([1, 3, 5, 2, 4, 6])"
      ]
     },
     "execution_count": 38,
     "metadata": {},
     "output_type": "execute_result"
    }
   ],
   "source": [
    "z"
   ]
  },
  {
   "cell_type": "code",
   "execution_count": 39,
   "id": "dde4c126-ae47-4974-bc51-a6ab1d25a780",
   "metadata": {},
   "outputs": [
    {
     "data": {
      "text/plain": [
       "tensor([[1, 3, 5],\n",
       "        [2, 4, 6]])"
      ]
     },
     "execution_count": 39,
     "metadata": {},
     "output_type": "execute_result"
    }
   ],
   "source": [
    "y"
   ]
  },
  {
   "cell_type": "code",
   "execution_count": 40,
   "id": "5a3e1c94-f06d-4cbd-91a4-54ce787a95be",
   "metadata": {},
   "outputs": [
    {
     "data": {
      "text/plain": [
       "tensor([0, 3, 5, 2, 4, 6])"
      ]
     },
     "execution_count": 40,
     "metadata": {},
     "output_type": "execute_result"
    }
   ],
   "source": [
    "# このzとyは同じメモリを見ているわけではない\n",
    "z[0] = 0\n",
    "z"
   ]
  },
  {
   "cell_type": "code",
   "execution_count": 41,
   "id": "668da67c-71ac-45be-86eb-e7c11a7731fe",
   "metadata": {},
   "outputs": [
    {
     "data": {
      "text/plain": [
       "tensor([[1, 3, 5],\n",
       "        [2, 4, 6]])"
      ]
     },
     "execution_count": 41,
     "metadata": {},
     "output_type": "execute_result"
    }
   ],
   "source": [
    "y"
   ]
  },
  {
   "cell_type": "code",
   "execution_count": 68,
   "id": "cc79037e-641f-4dfa-85de-d97bf526d9fd",
   "metadata": {},
   "outputs": [],
   "source": [
    "# 実際にメモリを連続で判断するとかしていないよ！ -> torch.view()を使う\n",
    "# コピーを返して欲しくない(同じメモリを使う) -> メモリを節約したい, 厳密にメモリを管理したい -> reshapeではなくて、torch.view()を使う\n",
    "# そうでなくて、とりあえずreshapeしたいというときは、reshapeでもいい"
   ]
  },
  {
   "cell_type": "code",
   "execution_count": 69,
   "id": "cf933e1a-4e9b-415d-95cc-9ff1ed93e6cc",
   "metadata": {},
   "outputs": [
    {
     "name": "stdout",
     "output_type": "stream",
     "text": [
      "torch.Size([3])\n",
      "(3,)\n"
     ]
    }
   ],
   "source": [
    "# flatten(多次元配列を１次元、１rankにする)\n",
    "flatten_tensor = torch.flatten(tensor_example)\n",
    "flatten_np = np_example.flatten()\n",
    "print(flatten_tensor.shape)\n",
    "print(flatten_np.shape)\n",
    "\n"
   ]
  },
  {
   "cell_type": "code",
   "execution_count": 70,
   "id": "ccb9f7d3-832b-4dde-8658-a7b4dcf1cc80",
   "metadata": {},
   "outputs": [
    {
     "data": {
      "text/plain": [
       "torch.Size([1, 3, 1])"
      ]
     },
     "execution_count": 70,
     "metadata": {},
     "output_type": "execute_result"
    }
   ],
   "source": [
    "tensor_example.shape"
   ]
  },
  {
   "cell_type": "code",
   "execution_count": 71,
   "id": "b2c87824-5020-43d6-9395-9f648550bc0a",
   "metadata": {},
   "outputs": [
    {
     "data": {
      "text/plain": [
       "tensor([1, 2, 3])"
      ]
     },
     "execution_count": 71,
     "metadata": {},
     "output_type": "execute_result"
    }
   ],
   "source": [
    "flatten_tensor"
   ]
  },
  {
   "cell_type": "code",
   "execution_count": null,
   "id": "96674bdc-4872-44dc-8b1d-374983daaef2",
   "metadata": {},
   "outputs": [],
   "source": []
  },
  {
   "cell_type": "code",
   "execution_count": 72,
   "id": "d47d1e12-91ef-4fcf-b61e-370410bafc28",
   "metadata": {},
   "outputs": [
    {
     "name": "stdout",
     "output_type": "stream",
     "text": [
      "torch.Size([1, 3, 1])\n",
      "(1, 3, 1)\n"
     ]
    }
   ],
   "source": [
    "# squeeze\n",
    "tensor_example = torch.tensor([[[1],[2], [3]]])\n",
    "np_example = np.array([[[1], [2], [3]]])\n",
    "print(tensor_example.shape)\n",
    "print(np_example.shape)"
   ]
  },
  {
   "cell_type": "code",
   "execution_count": 73,
   "id": "f9d4a515-6523-4b0d-8efd-e33be74ed7e0",
   "metadata": {},
   "outputs": [
    {
     "data": {
      "text/plain": [
       "tensor([[[1],\n",
       "         [2],\n",
       "         [3]]])"
      ]
     },
     "execution_count": 73,
     "metadata": {},
     "output_type": "execute_result"
    }
   ],
   "source": [
    "tensor_example"
   ]
  },
  {
   "cell_type": "code",
   "execution_count": 74,
   "id": "a7230795-8f07-4c1f-881c-5bd9445c2b23",
   "metadata": {},
   "outputs": [
    {
     "data": {
      "text/plain": [
       "array([[[1],\n",
       "        [2],\n",
       "        [3]]])"
      ]
     },
     "execution_count": 74,
     "metadata": {},
     "output_type": "execute_result"
    }
   ],
   "source": [
    "np_example"
   ]
  },
  {
   "cell_type": "code",
   "execution_count": 75,
   "id": "969b7214-db6f-4053-af6e-ac99774f3746",
   "metadata": {},
   "outputs": [
    {
     "name": "stdout",
     "output_type": "stream",
     "text": [
      "torch.Size([3])\n",
      "(3,)\n"
     ]
    }
   ],
   "source": [
    "# 次元が1の部分を削除した\n",
    "squeezed_tensor = torch.squeeze(tensor_example)\n",
    "squeezed_np = np.squeeze(np_example)\n",
    "print(squeezed_tensor.shape)\n",
    "print(squeezed_np.shape)"
   ]
  },
  {
   "cell_type": "code",
   "execution_count": 79,
   "id": "6638645c-1d63-459f-ae14-9f6f6955c75f",
   "metadata": {},
   "outputs": [
    {
     "name": "stdout",
     "output_type": "stream",
     "text": [
      "torch.Size([1, 1, 3, 1])\n",
      "(1, 1, 3, 1)\n"
     ]
    }
   ],
   "source": [
    "# 最初の部分に次元が追加された\n",
    "unsqueezed_tensor = torch.unsqueeze(tensor_example, 0)\n",
    "# squeezed_np = np.squeeze(np_example)\n",
    "expand_dims_np = np.expand_dims(np_example, 0)\n",
    "print(unsqueezed_tensor.shape)\n",
    "print(expand_dims_np.shape)"
   ]
  },
  {
   "cell_type": "code",
   "execution_count": 77,
   "id": "aa198f95-ddd9-4926-9d87-dbfa554a28d4",
   "metadata": {},
   "outputs": [
    {
     "data": {
      "text/plain": [
       "tensor([1, 2, 3])"
      ]
     },
     "execution_count": 77,
     "metadata": {},
     "output_type": "execute_result"
    }
   ],
   "source": [
    "squeezed_tensor"
   ]
  },
  {
   "cell_type": "code",
   "execution_count": 80,
   "id": "9b5ecb16-baf6-44b6-97db-61ac98ce8f2a",
   "metadata": {},
   "outputs": [],
   "source": [
    "# squeezeやunsqueezeを使って次元を調整するのはよくある\n"
   ]
  },
  {
   "cell_type": "markdown",
   "id": "9f095e2b-040b-47f5-bea7-aec44677b625",
   "metadata": {},
   "source": [
    "### Tensorの便利関数"
   ]
  },
  {
   "cell_type": "code",
   "execution_count": 83,
   "id": "913ce619-d647-43e4-81e1-0a4f4db244e5",
   "metadata": {},
   "outputs": [],
   "source": [
    "tensor_example = torch.rand((2, 3))\n",
    "np_example = np.random.rand(2, 3)\n",
    "\n",
    "# 疑問\n",
    "# torch.rand(2, 3)とtorch.rand((2, 3))は何が違うのか？"
   ]
  },
  {
   "cell_type": "code",
   "execution_count": 84,
   "id": "b1c60ae6-327b-41d2-a925-a2c960675ff3",
   "metadata": {},
   "outputs": [
    {
     "data": {
      "text/plain": [
       "tensor([[0.9811, 0.0874, 0.0041],\n",
       "        [0.1088, 0.1637, 0.7025]])"
      ]
     },
     "execution_count": 84,
     "metadata": {},
     "output_type": "execute_result"
    }
   ],
   "source": [
    "tensor_example"
   ]
  },
  {
   "cell_type": "code",
   "execution_count": 87,
   "id": "a6a4ee8a-1c03-498b-8eeb-03a194a991b5",
   "metadata": {},
   "outputs": [
    {
     "data": {
      "text/plain": [
       "array([[0.14648123, 0.23668738, 0.99116782],\n",
       "       [0.66555702, 0.74162183, 0.71477484]])"
      ]
     },
     "execution_count": 87,
     "metadata": {},
     "output_type": "execute_result"
    }
   ],
   "source": [
    "np_example"
   ]
  },
  {
   "cell_type": "code",
   "execution_count": 91,
   "id": "1e81fced-0d25-4c67-80fe-55e51139f071",
   "metadata": {},
   "outputs": [
    {
     "name": "stdout",
     "output_type": "stream",
     "text": [
      "tensor(2.0475)\n",
      "3.496290124970787\n",
      "tensor(0.4009)\n",
      "0.29620451978529305\n",
      "tensor(0.4009)\n",
      "0.29620451978529305\n",
      "tensor([[0.9905, 0.2956, 0.0637],\n",
      "        [0.3299, 0.4045, 0.8382]])\n",
      "[[0.38272866 0.48650527 0.99557412]\n",
      " [0.81581678 0.86117468 0.84544358]]\n"
     ]
    }
   ],
   "source": [
    "# 合計\n",
    "print(torch.sum(tensor_example))\n",
    "print(np.sum(np_example))\n",
    "\n",
    "# 平均\n",
    "print(torch.std(tensor_example))\n",
    "print(np.std(np_example))\n",
    "\n",
    "# 標準偏差\n",
    "print(torch.std(tensor_example))\n",
    "print(np.std(np_example))\n",
    "\n",
    "# もとの行列の値をすべてrootを取る\n",
    "print(torch.sqrt(tensor_example))\n",
    "print(np.sqrt(np_example))"
   ]
  },
  {
   "cell_type": "code",
   "execution_count": 93,
   "id": "3d141203-9e2f-49c3-be75-7ea02be35a44",
   "metadata": {},
   "outputs": [
    {
     "data": {
      "text/plain": [
       "2.0475428104400635"
      ]
     },
     "execution_count": 93,
     "metadata": {},
     "output_type": "execute_result"
    }
   ],
   "source": [
    "# これはtensorを返す。値だけを返すのではない。\n",
    "torch.sum(tensor_example)\n",
    "\n",
    "# 値だけ返すものは.item()をつける。リストに格納したいとかっていう時によく使う。\n",
    "torch.sum(tensor_example).item()"
   ]
  },
  {
   "cell_type": "code",
   "execution_count": null,
   "id": "f499719d-7687-4684-a7b7-da951fccac62",
   "metadata": {},
   "outputs": [],
   "source": []
  },
  {
   "cell_type": "markdown",
   "id": "5ac56c92-d79b-4545-8d3e-af44c30bd003",
   "metadata": {},
   "source": [
    "### 行列の演算"
   ]
  },
  {
   "cell_type": "markdown",
   "id": "d2d62aa1-d329-4844-8d86-3af31d96e445",
   "metadata": {},
   "source": [
    "#### 加減算,要素ごとの乗除算"
   ]
  },
  {
   "cell_type": "code",
   "execution_count": 95,
   "id": "d6f2d04c-272a-48c9-acf1-48f8f4c0c6bf",
   "metadata": {},
   "outputs": [
    {
     "name": "stdout",
     "output_type": "stream",
     "text": [
      "tensor([[0.4340, 0.1371, 0.5117],\n",
      "        [0.1585, 0.0758, 0.2247],\n",
      "        [0.0624, 0.1816, 0.9998]])\n",
      "tensor([[0.5944, 0.6541, 0.0337],\n",
      "        [0.1716, 0.3336, 0.5782],\n",
      "        [0.0600, 0.2846, 0.2007]])\n"
     ]
    }
   ],
   "source": [
    "a = torch.rand((3, 3))\n",
    "b = torch.rand((3, 3))\n",
    "print(a)\n",
    "print(b)"
   ]
  },
  {
   "cell_type": "code",
   "execution_count": 97,
   "id": "512fa547-e121-4c8e-9623-180ea48df2f2",
   "metadata": {},
   "outputs": [
    {
     "data": {
      "text/plain": [
       "tensor([[1.0284, 0.7911, 0.5454],\n",
       "        [0.3301, 0.4094, 0.8029],\n",
       "        [0.1224, 0.4662, 1.2005]])"
      ]
     },
     "execution_count": 97,
     "metadata": {},
     "output_type": "execute_result"
    }
   ],
   "source": [
    "# 要素ごとの足し算 ex) 0.434 + 0.5944 = 1.0284\n",
    "a + b"
   ]
  },
  {
   "cell_type": "code",
   "execution_count": 98,
   "id": "8cfb46df-a702-462c-b932-233cd6fdce00",
   "metadata": {},
   "outputs": [
    {
     "data": {
      "text/plain": [
       "tensor([[-0.1604, -0.5170,  0.4781],\n",
       "        [-0.0132, -0.2578, -0.3535],\n",
       "        [ 0.0024, -0.1029,  0.7991]])"
      ]
     },
     "execution_count": 98,
     "metadata": {},
     "output_type": "execute_result"
    }
   ],
   "source": [
    "a - b"
   ]
  },
  {
   "cell_type": "code",
   "execution_count": 99,
   "id": "f93353c2-7b1b-4e54-923e-a22fcfee8957",
   "metadata": {},
   "outputs": [
    {
     "data": {
      "text/plain": [
       "tensor([[0.2580, 0.0896, 0.0172],\n",
       "        [0.0272, 0.0253, 0.1299],\n",
       "        [0.0037, 0.0517, 0.2006]])"
      ]
     },
     "execution_count": 99,
     "metadata": {},
     "output_type": "execute_result"
    }
   ],
   "source": [
    "a * b"
   ]
  },
  {
   "cell_type": "code",
   "execution_count": 100,
   "id": "288842dd-d3d0-45ec-baa2-a475c0508f94",
   "metadata": {},
   "outputs": [
    {
     "data": {
      "text/plain": [
       "tensor([[ 0.7301,  0.2095, 15.2038],\n",
       "        [ 0.9234,  0.2272,  0.3886],\n",
       "        [ 1.0392,  0.6383,  4.9824]])"
      ]
     },
     "execution_count": 100,
     "metadata": {},
     "output_type": "execute_result"
    }
   ],
   "source": [
    "a / b"
   ]
  },
  {
   "cell_type": "code",
   "execution_count": 101,
   "id": "3d4c37c8-3b73-4348-b1f2-1a9530f6872c",
   "metadata": {},
   "outputs": [
    {
     "data": {
      "text/plain": [
       "tensor([[0.3122, 0.4752, 0.1965],\n",
       "        [0.1207, 0.1929, 0.0942],\n",
       "        [0.1283, 0.3859, 0.3077]])"
      ]
     },
     "execution_count": 101,
     "metadata": {},
     "output_type": "execute_result"
    }
   ],
   "source": [
    "# 行列の積\n",
    "# 行列は交換法則は成り立たない。この場合は、左に対して右から行列をかけている。\n",
    "torch.mm(a, b)"
   ]
  },
  {
   "cell_type": "code",
   "execution_count": 102,
   "id": "b12abe15-2358-44b9-9a50-ea9f960dd14e",
   "metadata": {},
   "outputs": [
    {
     "data": {
      "text/plain": [
       "tensor([[0.3122, 0.4752, 0.1965],\n",
       "        [0.1207, 0.1929, 0.0942],\n",
       "        [0.1283, 0.3859, 0.3077]])"
      ]
     },
     "execution_count": 102,
     "metadata": {},
     "output_type": "execute_result"
    }
   ],
   "source": [
    "torch.matmul(a, b)"
   ]
  },
  {
   "cell_type": "code",
   "execution_count": 103,
   "id": "3cd1e064-32e2-438d-a9cb-60390643f75e",
   "metadata": {},
   "outputs": [
    {
     "data": {
      "text/plain": [
       "tensor([[0.3122, 0.4752, 0.1965],\n",
       "        [0.1207, 0.1929, 0.0942],\n",
       "        [0.1283, 0.3859, 0.3077]])"
      ]
     },
     "execution_count": 103,
     "metadata": {},
     "output_type": "execute_result"
    }
   ],
   "source": [
    "# torch.mm(a, b)とtorch.matmul(a, b)と a @ bも同じ\n",
    "a @ b"
   ]
  },
  {
   "cell_type": "code",
   "execution_count": 106,
   "id": "d9c567ca-5fac-4fb9-9f36-2e5fd91d430c",
   "metadata": {},
   "outputs": [],
   "source": [
    "\n",
    "\n",
    "# スカラー: ランク0\n",
    "scalar = np.array(5)  \n",
    "\n",
    "# ベクトル: ランク1 (例えば、3要素)\n",
    "vector = np.array([1, 2, 3])\n",
    "\n",
    "# 行列: ランク2 (例えば、2x3)\n",
    "matrix = np.array([[1, 2, 3], [4, 5, 6]])\n",
    "\n",
    "# 3Dテンソル: ランク3 (例えば、2x3x4)\n",
    "tensor_3d = np.array([[[1, 2, 3, 4], [5, 6, 7, 8], [9, 10, 11, 12]],\n",
    "                      [[13, 14, 15, 16], [17, 18, 19, 20], [21, 22, 23, 24]]])\n"
   ]
  },
  {
   "cell_type": "code",
   "execution_count": 108,
   "id": "4f23b0e5-9f44-4a16-9fae-02d92a8061d9",
   "metadata": {},
   "outputs": [
    {
     "data": {
      "text/plain": [
       "array(5)"
      ]
     },
     "execution_count": 108,
     "metadata": {},
     "output_type": "execute_result"
    }
   ],
   "source": [
    "scalar"
   ]
  },
  {
   "cell_type": "code",
   "execution_count": 109,
   "id": "8196fb64-5b98-42dc-a97d-df1f6d586082",
   "metadata": {},
   "outputs": [
    {
     "data": {
      "text/plain": [
       "array([1, 2, 3])"
      ]
     },
     "execution_count": 109,
     "metadata": {},
     "output_type": "execute_result"
    }
   ],
   "source": [
    "vector"
   ]
  },
  {
   "cell_type": "code",
   "execution_count": 110,
   "id": "82bd5f6f-8908-4541-ad4f-b47d326da476",
   "metadata": {},
   "outputs": [
    {
     "data": {
      "text/plain": [
       "array([[1, 2, 3],\n",
       "       [4, 5, 6]])"
      ]
     },
     "execution_count": 110,
     "metadata": {},
     "output_type": "execute_result"
    }
   ],
   "source": [
    "matrix"
   ]
  },
  {
   "cell_type": "code",
   "execution_count": 111,
   "id": "383fc6fb-5288-47af-ab54-78ba42cde1ba",
   "metadata": {},
   "outputs": [
    {
     "data": {
      "text/plain": [
       "array([[[ 1,  2,  3,  4],\n",
       "        [ 5,  6,  7,  8],\n",
       "        [ 9, 10, 11, 12]],\n",
       "\n",
       "       [[13, 14, 15, 16],\n",
       "        [17, 18, 19, 20],\n",
       "        [21, 22, 23, 24]]])"
      ]
     },
     "execution_count": 111,
     "metadata": {},
     "output_type": "execute_result"
    }
   ],
   "source": [
    "tensor_3d"
   ]
  },
  {
   "cell_type": "code",
   "execution_count": 112,
   "id": "ab10b2b4-632e-4a92-bf14-8be320316b96",
   "metadata": {},
   "outputs": [
    {
     "name": "stdout",
     "output_type": "stream",
     "text": [
      "()\n",
      "(3,)\n",
      "(2, 3)\n",
      "(2, 3, 4)\n"
     ]
    }
   ],
   "source": [
    "print(scalar.shape)\n",
    "print(vector.shape)\n",
    "print(matrix.shape)\n",
    "print(tensor_3d.shape)"
   ]
  },
  {
   "cell_type": "code",
   "execution_count": 118,
   "id": "fd5844ff-b14e-408d-b261-fcd5adaa1843",
   "metadata": {},
   "outputs": [
    {
     "data": {
      "text/plain": [
       "3"
      ]
     },
     "execution_count": 118,
     "metadata": {},
     "output_type": "execute_result"
    }
   ],
   "source": [
    "# 次元数\n",
    "tensor_3d.ndim"
   ]
  },
  {
   "cell_type": "code",
   "execution_count": 114,
   "id": "43007957-0bc7-40bf-83f3-3e905693243d",
   "metadata": {},
   "outputs": [
    {
     "data": {
      "text/plain": [
       "array([[1, 2, 3]])"
      ]
     },
     "execution_count": 114,
     "metadata": {},
     "output_type": "execute_result"
    }
   ],
   "source": []
  },
  {
   "cell_type": "markdown",
   "id": "9bbfd794-6948-4896-ab8b-866a133182ff",
   "metadata": {},
   "source": [
    "### ブロードキャスティング"
   ]
  },
  {
   "cell_type": "code",
   "execution_count": 120,
   "id": "c35bcd9c-27e8-48e0-9bdd-9a7046646d1d",
   "metadata": {},
   "outputs": [
    {
     "data": {
      "text/plain": [
       "tensor([[0.5014, 0.3139, 0.4654],\n",
       "        [0.1612, 0.1568, 0.2083],\n",
       "        [0.3289, 0.1054, 0.9192]])"
      ]
     },
     "execution_count": 120,
     "metadata": {},
     "output_type": "execute_result"
    }
   ],
   "source": [
    "# (3, 3)とスカラーの演算\n",
    "a = torch.rand(3, 3)\n",
    "scaler = 5\n",
    "a"
   ]
  },
  {
   "cell_type": "code",
   "execution_count": 121,
   "id": "f06aeef3-451c-4bc9-80e1-d08e66f0773b",
   "metadata": {},
   "outputs": [
    {
     "data": {
      "text/plain": [
       "5"
      ]
     },
     "execution_count": 121,
     "metadata": {},
     "output_type": "execute_result"
    }
   ],
   "source": [
    "scaler "
   ]
  },
  {
   "cell_type": "code",
   "execution_count": 122,
   "id": "64d178a2-4908-4100-8c9f-b7b991c049d0",
   "metadata": {},
   "outputs": [
    {
     "data": {
      "text/plain": [
       "tensor([[5.5014, 5.3139, 5.4654],\n",
       "        [5.1612, 5.1568, 5.2083],\n",
       "        [5.3289, 5.1054, 5.9192]])"
      ]
     },
     "execution_count": 122,
     "metadata": {},
     "output_type": "execute_result"
    }
   ],
   "source": [
    "# scalerがそれぞれの要素に足している\n",
    "# 内部ではブロードキャスティングしている\n",
    "a + scaler"
   ]
  },
  {
   "cell_type": "code",
   "execution_count": 124,
   "id": "7f00fc7c-a21d-4769-8fbf-dac692af2ab8",
   "metadata": {},
   "outputs": [
    {
     "data": {
      "text/plain": [
       "tensor([[0.0766, 0.8460, 0.3624]])"
      ]
     },
     "execution_count": 124,
     "metadata": {},
     "output_type": "execute_result"
    }
   ],
   "source": [
    "# (3, 3)と(1, 3)の演算\n",
    "b = torch.rand(1, 3)\n",
    "b"
   ]
  },
  {
   "cell_type": "code",
   "execution_count": 126,
   "id": "15ee3f4e-6ad4-44e4-b6b0-580eb9830b68",
   "metadata": {},
   "outputs": [
    {
     "data": {
      "text/plain": [
       "tensor([[0.5780, 1.1600, 0.8278],\n",
       "        [0.2378, 1.0028, 0.5707],\n",
       "        [0.4055, 0.9514, 1.2817]])"
      ]
     },
     "execution_count": 126,
     "metadata": {},
     "output_type": "execute_result"
    }
   ],
   "source": [
    "# 次元が１, rankが同じ\n",
    "a + b"
   ]
  },
  {
   "cell_type": "code",
   "execution_count": 127,
   "id": "cd6ecacc-16bc-4b51-8b20-60f918121b3a",
   "metadata": {},
   "outputs": [],
   "source": [
    "# (32, 128, 128, 3)と(128, 128, 3)の演算\n",
    "a = torch.rand((32, 128, 128, 3))\n",
    "b = torch.rand((128, 128, 3))\n"
   ]
  },
  {
   "cell_type": "code",
   "execution_count": 130,
   "id": "fbd18cd1-0fb3-413c-8cbf-124c3871a94f",
   "metadata": {},
   "outputs": [
    {
     "data": {
      "text/plain": [
       "torch.Size([32, 128, 128, 3])"
      ]
     },
     "execution_count": 130,
     "metadata": {},
     "output_type": "execute_result"
    }
   ],
   "source": [
    "a.shape"
   ]
  },
  {
   "cell_type": "code",
   "execution_count": 131,
   "id": "52862a4b-f9be-4842-a97c-42d04bd093cb",
   "metadata": {},
   "outputs": [
    {
     "data": {
      "text/plain": [
       "torch.Size([32, 128, 128, 3])"
      ]
     },
     "execution_count": 131,
     "metadata": {},
     "output_type": "execute_result"
    }
   ],
   "source": [
    "(a + b).shape"
   ]
  },
  {
   "cell_type": "code",
   "execution_count": 133,
   "id": "80dbb8a0-08ab-453a-81c3-38b7a13bc9c5",
   "metadata": {},
   "outputs": [
    {
     "ename": "RuntimeError",
     "evalue": "The size of tensor a (3) must match the size of tensor b (6) at non-singleton dimension 3",
     "output_type": "error",
     "traceback": [
      "\u001b[0;31m---------------------------------------------------------------------------\u001b[0m",
      "\u001b[0;31mRuntimeError\u001b[0m                              Traceback (most recent call last)",
      "Cell \u001b[0;32mIn[133], line 6\u001b[0m\n\u001b[1;32m      3\u001b[0m b \u001b[38;5;241m=\u001b[39m torch\u001b[38;5;241m.\u001b[39mrand((\u001b[38;5;241m128\u001b[39m, \u001b[38;5;241m128\u001b[39m, \u001b[38;5;241m6\u001b[39m))\n\u001b[1;32m      4\u001b[0m \u001b[38;5;66;03m# ブロードキャスティングできない\u001b[39;00m\n\u001b[1;32m      5\u001b[0m \u001b[38;5;66;03m# それぞれのtensorの演算が形状的に問題がないか、と考える必要あり\u001b[39;00m\n\u001b[0;32m----> 6\u001b[0m \u001b[43ma\u001b[49m\u001b[43m \u001b[49m\u001b[38;5;241;43m+\u001b[39;49m\u001b[43m \u001b[49m\u001b[43mb\u001b[49m\n",
      "\u001b[0;31mRuntimeError\u001b[0m: The size of tensor a (3) must match the size of tensor b (6) at non-singleton dimension 3"
     ]
    }
   ],
   "source": [
    "# (32, 128, 128, 3)と(128, 128, 6)の演算\n",
    "a = torch.rand((32, 128, 128, 3))\n",
    "b = torch.rand((128, 128, 6))\n",
    "# ブロードキャスティングできない\n",
    "# それぞれのtensorの演算が形状的に問題がないか、と考える必要あり\n",
    "a + b"
   ]
  },
  {
   "cell_type": "code",
   "execution_count": 137,
   "id": "a9493c58-2d35-47ff-b5cc-00ca80e7ae9a",
   "metadata": {},
   "outputs": [
    {
     "data": {
      "text/plain": [
       "torch.Size([8, 128, 128, 3])"
      ]
     },
     "execution_count": 137,
     "metadata": {},
     "output_type": "execute_result"
    }
   ],
   "source": [
    "# (1, 128, 128, 3)と(8, 128, 128, 1)の演算\n",
    "a = torch.rand((1, 128, 128, 3))\n",
    "b = torch.rand((8, 128, 128, 1))\n",
    "# ブロードキャスティングできない\n",
    "# 実行できる\n",
    "(a + b).shape"
   ]
  },
  {
   "cell_type": "code",
   "execution_count": null,
   "id": "5d215703-dc03-4a93-a470-96b09de698a1",
   "metadata": {},
   "outputs": [],
   "source": []
  },
  {
   "cell_type": "code",
   "execution_count": null,
   "id": "40c1df49-6902-44e9-9262-f2463ecbb056",
   "metadata": {},
   "outputs": [],
   "source": []
  },
  {
   "cell_type": "code",
   "execution_count": null,
   "id": "f186bc00-ddc0-4717-a0ed-827a2527922d",
   "metadata": {},
   "outputs": [],
   "source": []
  },
  {
   "cell_type": "code",
   "execution_count": null,
   "id": "d2bf25e2-dcac-4592-a339-3027e335759d",
   "metadata": {},
   "outputs": [],
   "source": []
  },
  {
   "cell_type": "code",
   "execution_count": null,
   "id": "c312d51b-8964-459c-b563-16bb8093c33c",
   "metadata": {},
   "outputs": [],
   "source": []
  },
  {
   "cell_type": "code",
   "execution_count": null,
   "id": "012d4ef1-26e3-4b1d-8b86-b3e2de33473b",
   "metadata": {},
   "outputs": [],
   "source": []
  },
  {
   "cell_type": "code",
   "execution_count": null,
   "id": "84af4e15-a631-4251-a069-f8914c23051f",
   "metadata": {},
   "outputs": [],
   "source": []
  },
  {
   "cell_type": "code",
   "execution_count": null,
   "id": "f0c0d5fc-a8aa-4bf2-b600-37eacad4468a",
   "metadata": {},
   "outputs": [],
   "source": []
  },
  {
   "cell_type": "code",
   "execution_count": null,
   "id": "5996fe76-1cde-474f-ad24-06b54d074457",
   "metadata": {},
   "outputs": [],
   "source": []
  },
  {
   "cell_type": "code",
   "execution_count": null,
   "id": "3e2235f9-7ea9-4de8-a471-390304a78153",
   "metadata": {},
   "outputs": [],
   "source": []
  },
  {
   "cell_type": "code",
   "execution_count": null,
   "id": "54627f33-5401-4dff-bf6a-a061ddbce30e",
   "metadata": {},
   "outputs": [],
   "source": []
  },
  {
   "cell_type": "code",
   "execution_count": null,
   "id": "46245c92-a1a9-4c81-9cb2-e2072a7d1edd",
   "metadata": {},
   "outputs": [],
   "source": []
  }
 ],
 "metadata": {
  "kernelspec": {
   "display_name": "Python 3 (ipykernel)",
   "language": "python",
   "name": "python3"
  },
  "language_info": {
   "codemirror_mode": {
    "name": "ipython",
    "version": 3
   },
   "file_extension": ".py",
   "mimetype": "text/x-python",
   "name": "python",
   "nbconvert_exporter": "python",
   "pygments_lexer": "ipython3",
   "version": "3.8.18"
  }
 },
 "nbformat": 4,
 "nbformat_minor": 5
}
